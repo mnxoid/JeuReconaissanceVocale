{
 "cells": [
  {
   "cell_type": "code",
   "execution_count": 1,
   "metadata": {},
   "outputs": [
    {
     "name": "stderr",
     "output_type": "stream",
     "text": [
      "Using TensorFlow backend.\n"
     ]
    }
   ],
   "source": [
    "%load_ext autoreload\n",
    "%autoreload 2\n",
    "\n",
    "from preprocess import *\n",
    "import keras\n",
    "from keras.models import Sequential\n",
    "from keras.layers import Dense, Dropout, Flatten, Conv2D, MaxPooling2D\n",
    "from keras.utils import to_categorical"
   ]
  },
  {
   "cell_type": "code",
   "execution_count": 2,
   "metadata": {},
   "outputs": [],
   "source": [
    "# Second dimension of the feature is dim2\n",
    "feature_dim_2 = 11"
   ]
  },
  {
   "cell_type": "code",
   "execution_count": 3,
   "metadata": {},
   "outputs": [
    {
     "name": "stderr",
     "output_type": "stream",
     "text": [
      "Saving vectors of label - 'bas': 100%|██████████| 1677/1677 [01:24<00:00, 19.92it/s]\n",
      "Saving vectors of label - 'droite': 100%|██████████| 1703/1703 [01:25<00:00, 20.22it/s]\n",
      "Saving vectors of label - 'aurevoir': 100%|██████████| 1690/1690 [01:33<00:00, 17.80it/s]\n",
      "Saving vectors of label - 'bonjour': 100%|██████████| 1794/1794 [01:42<00:00, 17.55it/s]\n",
      "Saving vectors of label - 'non': 100%|██████████| 1599/1599 [01:21<00:00, 19.71it/s]\n",
      "Saving vectors of label - 'haut': 100%|██████████| 1690/1690 [01:24<00:00, 19.92it/s]\n",
      "Saving vectors of label - 'gauche': 100%|██████████| 1729/1729 [01:27<00:00, 19.93it/s]\n",
      "Saving vectors of label - 'oui': 100%|██████████| 1651/1651 [01:21<00:00, 20.17it/s]\n"
     ]
    }
   ],
   "source": [
    "# Save data to array file first\n",
    "save_data_to_array(max_len=feature_dim_2)"
   ]
  },
  {
   "cell_type": "code",
   "execution_count": 4,
   "metadata": {},
   "outputs": [],
   "source": [
    "# # Loading train set and test set\n",
    "X_train, X_test, y_train, y_test = get_train_test()\n",
    "\n",
    "# # Feature dimension\n",
    "feature_dim_1 = 20\n",
    "channel = 1\n",
    "epochs = 15\n",
    "batch_size = 100\n",
    "verbose = 1\n",
    "num_classes = 8\n",
    "\n",
    "# Reshaping to perform 2D convolution\n",
    "X_train = X_train.reshape(X_train.shape[0], feature_dim_1, feature_dim_2, channel)\n",
    "X_test = X_test.reshape(X_test.shape[0], feature_dim_1, feature_dim_2, channel)\n",
    "\n",
    "y_train_hot = to_categorical(y_train)\n",
    "y_test_hot = to_categorical(y_test)"
   ]
  },
  {
   "cell_type": "code",
   "execution_count": 5,
   "metadata": {},
   "outputs": [],
   "source": [
    "def get_model():\n",
    "    model = Sequential()\n",
    "    model.add(Conv2D(32, kernel_size=(2, 2), activation='relu', input_shape=(feature_dim_1, feature_dim_2, channel)))\n",
    "    model.add(Conv2D(48, kernel_size=(2, 2), activation='relu'))\n",
    "    model.add(Conv2D(120, kernel_size=(2, 2), activation='relu'))\n",
    "    model.add(MaxPooling2D(pool_size=(2, 2)))\n",
    "    model.add(Dropout(0.25))\n",
    "    model.add(Flatten())\n",
    "    model.add(Dense(128, activation='relu'))\n",
    "    model.add(Dropout(0.25))\n",
    "    model.add(Dense(64, activation='relu'))\n",
    "    model.add(Dropout(0.4))\n",
    "    model.add(Dense(num_classes, activation='softmax'))\n",
    "    model.compile(loss=keras.losses.categorical_crossentropy,\n",
    "                  optimizer=keras.optimizers.Adadelta(),\n",
    "                  metrics=['accuracy'])\n",
    "    return model\n",
    "\n",
    "# Predicts one sample\n",
    "def predict(filepath, model):\n",
    "    sample = wav2mfcc(filepath)\n",
    "    sample_reshaped = sample.reshape(1, feature_dim_1, feature_dim_2, channel)\n",
    "    return get_labels()[0][\n",
    "            np.argmax(model.predict(sample_reshaped))\n",
    "    ]"
   ]
  },
  {
   "cell_type": "markdown",
   "metadata": {},
   "source": [
    "# Building The Model Then Training it"
   ]
  },
  {
   "cell_type": "code",
   "execution_count": 6,
   "metadata": {
    "scrolled": true
   },
   "outputs": [
    {
     "name": "stdout",
     "output_type": "stream",
     "text": [
      "Train on 8119 samples, validate on 5414 samples\n",
      "Epoch 1/15\n",
      "8119/8119 [==============================] - 7s 884us/step - loss: 1.5159 - acc: 0.4860 - val_loss: 0.7602 - val_acc: 0.7590\n",
      "Epoch 2/15\n",
      "8119/8119 [==============================] - 8s 1ms/step - loss: 0.5893 - acc: 0.8090 - val_loss: 0.1922 - val_acc: 0.9505\n",
      "Epoch 3/15\n",
      "8119/8119 [==============================] - 10s 1ms/step - loss: 0.2944 - acc: 0.9090 - val_loss: 0.0872 - val_acc: 0.9764\n",
      "Epoch 4/15\n",
      "8119/8119 [==============================] - 9s 1ms/step - loss: 0.1638 - acc: 0.9528 - val_loss: 0.1281 - val_acc: 0.9571\n",
      "Epoch 5/15\n",
      "8119/8119 [==============================] - 8s 945us/step - loss: 0.1096 - acc: 0.9665 - val_loss: 0.0453 - val_acc: 0.9856\n",
      "Epoch 6/15\n",
      "8119/8119 [==============================] - 8s 964us/step - loss: 0.0828 - acc: 0.9722 - val_loss: 0.0307 - val_acc: 0.9919\n",
      "Epoch 7/15\n",
      "8119/8119 [==============================] - 9s 1ms/step - loss: 0.0618 - acc: 0.9808 - val_loss: 0.0266 - val_acc: 0.9943\n",
      "Epoch 8/15\n",
      "8119/8119 [==============================] - 8s 931us/step - loss: 0.0568 - acc: 0.9835 - val_loss: 0.0349 - val_acc: 0.9900\n",
      "Epoch 9/15\n",
      "8119/8119 [==============================] - 8s 927us/step - loss: 0.0393 - acc: 0.9867 - val_loss: 0.0183 - val_acc: 0.9948\n",
      "Epoch 10/15\n",
      "8119/8119 [==============================] - 7s 897us/step - loss: 0.0347 - acc: 0.9903 - val_loss: 0.0127 - val_acc: 0.9958\n",
      "Epoch 11/15\n",
      "8119/8119 [==============================] - 8s 973us/step - loss: 0.0327 - acc: 0.9897 - val_loss: 0.0221 - val_acc: 0.9941\n",
      "Epoch 12/15\n",
      "8119/8119 [==============================] - 7s 883us/step - loss: 0.0308 - acc: 0.9911 - val_loss: 0.0143 - val_acc: 0.9952\n",
      "Epoch 13/15\n",
      "8119/8119 [==============================] - 7s 868us/step - loss: 0.0253 - acc: 0.9911 - val_loss: 0.0172 - val_acc: 0.9943\n",
      "Epoch 14/15\n",
      "8119/8119 [==============================] - 8s 952us/step - loss: 0.0237 - acc: 0.9917 - val_loss: 0.0181 - val_acc: 0.9937\n",
      "Epoch 15/15\n",
      "8119/8119 [==============================] - 9s 1ms/step - loss: 0.0184 - acc: 0.9940 - val_loss: 0.0160 - val_acc: 0.9950\n"
     ]
    }
   ],
   "source": [
    "model = get_model()\n",
    "Model1 = model.fit(\n",
    "    X_train, y_train_hot, \n",
    "    batch_size=batch_size, \n",
    "    epochs=epochs, \n",
    "    verbose=verbose, \n",
    "    validation_data=(X_test, y_test_hot)\n",
    ")"
   ]
  },
  {
   "cell_type": "code",
   "execution_count": 7,
   "metadata": {},
   "outputs": [
    {
     "name": "stdout",
     "output_type": "stream",
     "text": [
      "_________________________________________________________________\n",
      "Layer (type)                 Output Shape              Param #   \n",
      "=================================================================\n",
      "conv2d_1 (Conv2D)            (None, 19, 10, 32)        160       \n",
      "_________________________________________________________________\n",
      "conv2d_2 (Conv2D)            (None, 18, 9, 48)         6192      \n",
      "_________________________________________________________________\n",
      "conv2d_3 (Conv2D)            (None, 17, 8, 120)        23160     \n",
      "_________________________________________________________________\n",
      "max_pooling2d_1 (MaxPooling2 (None, 8, 4, 120)         0         \n",
      "_________________________________________________________________\n",
      "dropout_1 (Dropout)          (None, 8, 4, 120)         0         \n",
      "_________________________________________________________________\n",
      "flatten_1 (Flatten)          (None, 3840)              0         \n",
      "_________________________________________________________________\n",
      "dense_1 (Dense)              (None, 128)               491648    \n",
      "_________________________________________________________________\n",
      "dropout_2 (Dropout)          (None, 128)               0         \n",
      "_________________________________________________________________\n",
      "dense_2 (Dense)              (None, 64)                8256      \n",
      "_________________________________________________________________\n",
      "dropout_3 (Dropout)          (None, 64)                0         \n",
      "_________________________________________________________________\n",
      "dense_3 (Dense)              (None, 8)                 520       \n",
      "=================================================================\n",
      "Total params: 529,936\n",
      "Trainable params: 529,936\n",
      "Non-trainable params: 0\n",
      "_________________________________________________________________\n"
     ]
    }
   ],
   "source": [
    "model.summary()"
   ]
  },
  {
   "cell_type": "code",
   "execution_count": 8,
   "metadata": {},
   "outputs": [],
   "source": [
    "import matplotlib.pyplot as plt\n",
    "%matplotlib inline"
   ]
  },
  {
   "cell_type": "code",
   "execution_count": 9,
   "metadata": {},
   "outputs": [
    {
     "data": {
      "image/png": "[encoded data removed]",
      "text/plain": [
       "<Figure size 432x288 with 1 Axes>"
      ]
     },
     "metadata": {},
     "output_type": "display_data"
    }
   ],
   "source": [
    "plt.plot(Model1.history['loss'])\n",
    "plt.plot(Model1.history['val_loss'])\n",
    "plt.title('model loss')\n",
    "plt.ylabel('loss')\n",
    "plt.xlabel('epoch')\n",
    "plt.legend(['train','test'], loc='upper left')\n",
    "plt.show()"
   ]
  },
  {
   "cell_type": "markdown",
   "metadata": {},
   "source": [
    "## Prediction"
   ]
  },
  {
   "cell_type": "code",
   "execution_count": 10,
   "metadata": {},
   "outputs": [
    {
     "name": "stdout",
     "output_type": "stream",
     "text": [
      "droite\n"
     ]
    }
   ],
   "source": [
    "print(predict('mixes/droite/droite_mathilde_01_09.wav', model=model))"
   ]
  },
  {
   "cell_type": "code",
   "execution_count": 11,
   "metadata": {},
   "outputs": [
    {
     "name": "stdout",
     "output_type": "stream",
     "text": [
      "bonjour\n",
      "aurevoir\n",
      "gauche\n",
      "droite\n",
      "oui\n",
      "oui\n"
     ]
    }
   ],
   "source": [
    "print(predict('data/test/test-01.wav', model=model)) #bonjour\n",
    "print(predict('data/test/test-02.wav', model=model)) #au revoir\n",
    "print(predict('data/test/test-03.wav', model=model)) #a gauche\n",
    "print(predict('data/test/test-04.wav', model=model)) #a droite\n",
    "print(predict('data/test/steven_test-01.wav', model=model)) #oui\n",
    "print(predict('data/test/steven_test-02.wav', model=model)) #oui"
   ]
  },
  {
   "cell_type": "code",
   "execution_count": 12,
   "metadata": {},
   "outputs": [],
   "source": [
    "model.save(\"model.h5\")"
   ]
  },
  {
   "cell_type": "code",
   "execution_count": null,
   "metadata": {},
   "outputs": [],
   "source": []
  }
 ],
 "metadata": {
  "kernelspec": {
   "display_name": "Python 3",
   "language": "python",
   "name": "python3"
  },
  "language_info": {
   "codemirror_mode": {
    "name": "ipython",
    "version": 3
   },
   "file_extension": ".py",
   "mimetype": "text/x-python",
   "name": "python",
   "nbconvert_exporter": "python",
   "pygments_lexer": "ipython3",
   "version": "3.5.4"
  }
 },
 "nbformat": 4,
 "nbformat_minor": 2
}
